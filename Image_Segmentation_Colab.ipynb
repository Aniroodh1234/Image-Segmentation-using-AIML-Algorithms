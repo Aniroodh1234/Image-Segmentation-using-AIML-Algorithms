{
 "cells": [
  {
   "cell_type": "markdown",
   "id": "fc0c6640",
   "metadata": {},
   "source": [
    "# 🎯 Image Segmentation Project - Google Colab\n",
    "\n",
    "**Multi-Algorithm Image Segmentation Framework**\n",
    "\n",
    "---\n",
    "\n",
    "## 📋 Setup Instructions:\n",
    "1. **Runtime → Change runtime type → GPU (T4)**\n",
    "2. Run cells in order\n",
    "3. Training time: ~20-30 minutes\n",
    "\n",
    "---\n"
   ]
  },
  {
   "cell_type": "markdown",
   "id": "075e3f48",
   "metadata": {},
   "source": [
    "## 🔧 1. Check GPU Availability\n"
   ]
  },
  {
   "cell_type": "code",
   "execution_count": null,
   "id": "14038d1a",
   "metadata": {},
   "outputs": [],
   "source": [
    "import torch\n",
    "print(f\"PyTorch version: {torch.__version__}\")\n",
    "print(f\"CUDA available: {torch.cuda.is_available()}\")\n",
    "if torch.cuda.is_available():\n",
    "    print(f\"GPU: {torch.cuda.get_device_name(0)}\")\n",
    "    print(f\"GPU Memory: {torch.cuda.get_device_properties(0).total_memory / 1e9:.2f} GB\")\n",
    "else:\n",
    "    print(\"⚠️ No GPU! Go to Runtime → Change runtime type → Select GPU\")\n"
   ]
  },
  {
   "cell_type": "markdown",
   "id": "893e6968",
   "metadata": {},
   "source": [
    "## 📥 2. Clone Repository from GitHub\n"
   ]
  },
  {
   "cell_type": "code",
   "execution_count": null,
   "id": "c29a99f4",
   "metadata": {},
   "outputs": [],
   "source": [
    "# Clone your GitHub repository\n",
    "# REPLACE 'YOUR_USERNAME' with your actual GitHub username\n",
    "\n",
    "!git clone https://github.com/Aniroodh1234/Image-Segmentation-using-AIML-Algorithms.git\n",
    "\n",
    "# Change to project directory\n",
    "%cd Image-Segmentation-using-AIML-Algorithms\n",
    "\n",
    "# Verify structure\n",
    "!ls -la\n"
   ]
  },
  {
   "cell_type": "markdown",
   "id": "e7bd6a24",
   "metadata": {},
   "source": [
    "## 📦 3. Install Dependencies\n"
   ]
  },
  {
   "cell_type": "code",
   "execution_count": null,
   "id": "1b0efc91",
   "metadata": {},
   "outputs": [],
   "source": [
    "# Install required packages\n",
    "!pip install -q segmentation-models-pytorch albumentations timm\n",
    "\n",
    "# Verify installations\n",
    "import sys\n",
    "sys.path.append('src')\n",
    "\n",
    "print(\"✅ Installation complete!\")\n"
   ]
  },
  {
   "cell_type": "markdown",
   "id": "0b165836",
   "metadata": {},
   "source": [
    "## 🧪 4. Run Tests\n"
   ]
  },
  {
   "cell_type": "code",
   "execution_count": null,
   "id": "9a4e0cc9",
   "metadata": {},
   "outputs": [],
   "source": [
    "# Test project setup\n",
    "!python test_project.py\n"
   ]
  },
  {
   "cell_type": "markdown",
   "id": "0b836856",
   "metadata": {},
   "source": [
    "## 📊 5. Prepare Dataset\n"
   ]
  },
  {
   "cell_type": "code",
   "execution_count": null,
   "id": "c385f37b",
   "metadata": {},
   "outputs": [],
   "source": [
    "# Generate synthetic dataset (50 images)\n",
    "!python scripts/prepare_dataset.py\n",
    "\n",
    "# Verify\n",
    "!python verify_data.py\n"
   ]
  },
  {
   "cell_type": "markdown",
   "id": "43d7b9fb",
   "metadata": {},
   "source": [
    "## 🎨 6. Run Classical Methods (Quick Test)\n"
   ]
  },
  {
   "cell_type": "code",
   "execution_count": null,
   "id": "b11d1ccd",
   "metadata": {},
   "outputs": [],
   "source": [
    "# Run classical segmentation algorithms\n",
    "!python scripts/run_classical_methods.py\n",
    "\n",
    "# Display results\n",
    "from IPython.display import Image, display\n",
    "import matplotlib.pyplot as plt\n",
    "from pathlib import Path\n",
    "\n",
    "results_dir = Path('outputs/classical_results/kmeans')\n",
    "if results_dir.exists():\n",
    "    images = list(results_dir.glob('*.png'))\n",
    "    if images:\n",
    "        print(\"🎨 Classical Segmentation Results:\")\n",
    "        display(Image(filename=str(images[0])))\n",
    "else:\n",
    "    print(\"⚠️ No results found\")\n"
   ]
  },
  {
   "cell_type": "markdown",
   "id": "f40cdc1f",
   "metadata": {},
   "source": [
    "## 🧠 7. Train U-Net Model\n"
   ]
  },
  {
   "cell_type": "code",
   "execution_count": null,
   "id": "cc60e845",
   "metadata": {},
   "outputs": [],
   "source": [
    "# Train U-Net (30 epochs, ~10-15 minutes on T4 GPU)\n",
    "!python main.py --model unet --epochs 30 --batch_size 16 --lr 0.0001\n",
    "\n",
    "print(\"\\n✅ U-Net training completed!\")\n"
   ]
  },
  {
   "cell_type": "markdown",
   "id": "fd191709",
   "metadata": {},
   "source": [
    "## 🎯 8. Train Attention U-Net\n"
   ]
  },
  {
   "cell_type": "code",
   "execution_count": null,
   "id": "2234fcae",
   "metadata": {},
   "outputs": [],
   "source": [
    "# Train Attention U-Net\n",
    "!python main.py --model attention_unet --epochs 30 --batch_size 16\n",
    "\n",
    "print(\"\\n✅ Attention U-Net training completed!\")\n"
   ]
  },
  {
   "cell_type": "markdown",
   "id": "a623ae20",
   "metadata": {},
   "source": [
    "## 📈 9. Visualize Training Results\n"
   ]
  },
  {
   "cell_type": "code",
   "execution_count": null,
   "id": "ee916bb1",
   "metadata": {},
   "outputs": [],
   "source": [
    "# Display training curves\n",
    "from IPython.display import Image, display\n",
    "from pathlib import Path\n",
    "\n",
    "results_dir = Path('outputs/results')\n",
    "history_images = list(results_dir.glob('*_history.png'))\n",
    "\n",
    "print(\"📈 Training History:\")\n",
    "for img_path in history_images:\n",
    "    print(f\"\\n{img_path.stem}:\")\n",
    "    display(Image(filename=str(img_path)))\n"
   ]
  },
  {
   "cell_type": "markdown",
   "id": "614908b9",
   "metadata": {},
   "source": [
    "## 🔮 10. Run Inference & Visualize\n"
   ]
  },
  {
   "cell_type": "code",
   "execution_count": null,
   "id": "4096bee6",
   "metadata": {},
   "outputs": [],
   "source": [
    "# Run batch inference\n",
    "!python batch_inference.py\n",
    "\n",
    "# Display prediction results\n",
    "pred_dir = Path('outputs/predictions')\n",
    "pred_images = list(pred_dir.glob('*_predictions.png'))\n",
    "\n",
    "print(\"\\n🔮 Model Predictions:\")\n",
    "for img_path in pred_images:\n",
    "    print(f\"\\n{img_path.stem}:\")\n",
    "    display(Image(filename=str(img_path)))\n"
   ]
  },
  {
   "cell_type": "markdown",
   "id": "b4b63554",
   "metadata": {},
   "source": [
    "## 📊 11. Generate Comparison Report\n"
   ]
  },
  {
   "cell_type": "code",
   "execution_count": null,
   "id": "c84433d0",
   "metadata": {},
   "outputs": [],
   "source": [
    "# Generate model comparison\n",
    "!python scripts/generate_report.py\n",
    "!python generate_report_document.py\n",
    "\n",
    "# Display comparison\n",
    "from IPython.display import Image, display\n",
    "from pathlib import Path\n",
    "\n",
    "comparison_path = Path('outputs/results/model_comparison.png')\n",
    "if comparison_path.exists():\n",
    "    print(\"📊 Model Comparison:\")\n",
    "    display(Image(filename=str(comparison_path)))\n",
    "\n",
    "# Show final report\n",
    "report_path = Path('outputs/results/FINAL_REPORT.md')\n",
    "if report_path.exists():\n",
    "    print(\"\\n📄 Final Report:\")\n",
    "    with open(report_path, 'r') as f:\n",
    "        print(f.read())\n"
   ]
  },
  {
   "cell_type": "markdown",
   "id": "7842e032",
   "metadata": {},
   "source": [
    "## 💾 12. Download Results\n"
   ]
  },
  {
   "cell_type": "code",
   "execution_count": null,
   "id": "e03feaa9",
   "metadata": {},
   "outputs": [],
   "source": [
    "# Create zip of all results\n",
    "!zip -r results.zip outputs/\n",
    "\n",
    "print(\"✅ Results zipped!\")\n",
    "print(\"📥 Download 'results.zip' from the Files panel (left sidebar)\")\n",
    "\n",
    "# Or download specific files\n",
    "from google.colab import files\n",
    "\n",
    "print(\"\\nDownloading key files...\")\n",
    "files.download('outputs/results/FINAL_REPORT.md')\n",
    "files.download('outputs/results/model_comparison.png')\n"
   ]
  }
 ],
 "metadata": {
  "kernelspec": {
   "display_name": "base",
   "language": "python",
   "name": "python3"
  },
  "language_info": {
   "name": "python",
   "version": "3.12.7"
  }
 },
 "nbformat": 4,
 "nbformat_minor": 5
}

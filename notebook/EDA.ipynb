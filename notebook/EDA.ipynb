{
 "cells": [
  {
   "cell_type": "code",
   "execution_count": null,
   "id": "ecc0850a",
   "metadata": {
    "vscode": {
     "languageId": "plaintext"
    }
   },
   "outputs": [],
   "source": [
    "import sys\n",
    "sys.path.append('../src')"
   ]
  },
  {
   "cell_type": "code",
   "execution_count": null,
   "id": "d759fb8b",
   "metadata": {
    "vscode": {
     "languageId": "plaintext"
    }
   },
   "outputs": [],
   "source": [
    "import sys\n",
    "sys.path.append('../src')\n",
    "\n",
    "import numpy as np\n",
    "import matplotlib.pyplot as plt\n",
    "import cv2\n",
    "from pathlib import Path\n",
    "import seaborn as sns\n",
    "\n",
    "from utils.config import *\n",
    "from data.preprocessing import create_segmentation_mask\n",
    "\n",
    "%matplotlib inline\n",
    "sns.set_style('whitegrid')"
   ]
  },
  {
   "cell_type": "markdown",
   "id": "ed8941da",
   "metadata": {},
   "source": [
    "\"\"\"\n",
    "## 1. Load and Visualize Images\n",
    "\"\"\""
   ]
  },
  {
   "cell_type": "code",
   "execution_count": null,
   "id": "9d0fcf8f",
   "metadata": {
    "vscode": {
     "languageId": "plaintext"
    }
   },
   "outputs": [],
   "source": [
    "# Get all images\n",
    "image_files = list(RAW_DATA_DIR.glob('*.jpg')) + list(RAW_DATA_DIR.glob('*.png'))\n",
    "print(f\"Found {len(image_files)} images\")\n",
    "\n",
    "# Display sample images\n",
    "fig, axes = plt.subplots(2, 4, figsize=(16, 8))\n",
    "axes = axes.flatten()\n",
    "\n",
    "for i, img_path in enumerate(image_files[:8]):\n",
    "    img = cv2.imread(str(img_path))\n",
    "    img = cv2.cvtColor(img, cv2.COLOR_BGR2RGB)\n",
    "    axes[i].imshow(img)\n",
    "    axes[i].set_title(img_path.name)\n",
    "    axes[i].axis('off')\n",
    "\n",
    "plt.tight_layout()\n",
    "plt.show()"
   ]
  },
  {
   "cell_type": "markdown",
   "id": "d797c183",
   "metadata": {},
   "source": [
    "\"\"\"\n",
    "## 2. Analyze Image Statistics\n",
    "\"\"\""
   ]
  },
  {
   "cell_type": "code",
   "execution_count": null,
   "id": "dcfcb41a",
   "metadata": {
    "vscode": {
     "languageId": "plaintext"
    }
   },
   "outputs": [],
   "source": [
    "# Calculate statistics\n",
    "heights, widths, channels = [], [], []\n",
    "\n",
    "for img_path in image_files:\n",
    "    img = cv2.imread(str(img_path))\n",
    "    h, w, c = img.shape\n",
    "    heights.append(h)\n",
    "    widths.append(w)\n",
    "    channels.append(c)\n",
    "\n",
    "print(f\"Image dimensions:\")\n",
    "print(f\"  Height: min={min(heights)}, max={max(heights)}, mean={np.mean(heights):.1f}\")\n",
    "print(f\"  Width: min={min(widths)}, max={max(widths)}, mean={np.mean(widths):.1f}\")\n",
    "print(f\"  Channels: {set(channels)}\")"
   ]
  },
  {
   "cell_type": "markdown",
   "id": "e3efc514",
   "metadata": {},
   "source": [
    "\"\"\"\n",
    "## 3. Visualize Segmentation Masks\n",
    "\"\"\""
   ]
  },
  {
   "cell_type": "code",
   "execution_count": null,
   "id": "ac4124f6",
   "metadata": {
    "vscode": {
     "languageId": "plaintext"
    }
   },
   "outputs": [],
   "source": [
    "# Create and visualize masks\n",
    "test_image_path = image_files[0]\n",
    "image = cv2.imread(str(test_image_path))\n",
    "image = cv2.cvtColor(image, cv2.COLOR_BGR2RGB)\n",
    "image_resized = cv2.resize(image, (IMG_WIDTH, IMG_HEIGHT))\n",
    "\n",
    "# Create masks using different methods\n",
    "mask_kmeans = create_segmentation_mask(image_resized, method='kmeans', n_clusters=5)\n",
    "mask_watershed = create_segmentation_mask(image_resized, method='watershed', n_clusters=5)\n",
    "\n",
    "# Visualize\n",
    "fig, axes = plt.subplots(1, 3, figsize=(15, 5))\n",
    "\n",
    "axes[0].imshow(image_resized)\n",
    "axes[0].set_title('Original Image', fontsize=14, fontweight='bold')\n",
    "axes[0].axis('off')\n",
    "\n",
    "axes[1].imshow(mask_kmeans, cmap='tab10')\n",
    "axes[1].set_title('K-Means Segmentation', fontsize=14, fontweight='bold')\n",
    "axes[1].axis('off')\n",
    "\n",
    "axes[2].imshow(mask_watershed, cmap='tab10')\n",
    "axes[2].set_title('Watershed Segmentation', fontsize=14, fontweight='bold')\n",
    "axes[2].axis('off')\n",
    "\n",
    "plt.tight_layout()\n",
    "plt.show()"
   ]
  },
  {
   "cell_type": "markdown",
   "id": "f44bba92",
   "metadata": {},
   "source": [
    "\"\"\"\n",
    "## 4. Color Distribution Analysis\n",
    "\"\"\""
   ]
  },
  {
   "cell_type": "code",
   "execution_count": null,
   "id": "a0841a3a",
   "metadata": {
    "vscode": {
     "languageId": "plaintext"
    }
   },
   "outputs": [],
   "source": [
    "fig, axes = plt.subplots(1, 3, figsize=(15, 4))\n",
    "\n",
    "colors = ['red', 'green', 'blue']\n",
    "for i, (ax, color) in enumerate(zip(axes, colors)):\n",
    "    ax.hist(image_resized[:,:,i].ravel(), bins=50, color=color, alpha=0.7)\n",
    "    ax.set_title(f'{color.capitalize()} Channel Distribution', fontsize=12, fontweight='bold')\n",
    "    ax.set_xlabel('Pixel Value')\n",
    "    ax.set_ylabel('Frequency')\n",
    "    ax.grid(True, alpha=0.3)\n",
    "\n",
    "plt.tight_layout()\n",
    "plt.show()"
   ]
  },
  {
   "cell_type": "markdown",
   "id": "b658da6b",
   "metadata": {},
   "source": [
    "\"\"\"\n",
    "## 5. Segment Distribution\n",
    "\"\"\""
   ]
  },
  {
   "cell_type": "code",
   "execution_count": null,
   "id": "ce3f815c",
   "metadata": {
    "vscode": {
     "languageId": "plaintext"
    }
   },
   "outputs": [],
   "source": [
    "# Analyze segment distribution\n",
    "unique, counts = np.unique(mask_kmeans, return_counts=True)\n",
    "\n",
    "plt.figure(figsize=(10, 6))\n",
    "plt.bar(unique, counts, color='skyblue', edgecolor='navy', linewidth=2)\n",
    "plt.xlabel('Segment ID', fontsize=12)\n",
    "plt.ylabel('Number of Pixels', fontsize=12)\n",
    "plt.title('Pixel Distribution Across Segments', fontsize=14, fontweight='bold')\n",
    "plt.grid(axis='y', alpha=0.3)\n",
    "plt.show()\n",
    "\n",
    "# Print statistics\n",
    "print(\"\\nSegment Statistics:\")\n",
    "for seg_id, count in zip(unique, counts):\n",
    "    percentage = (count / mask_kmeans.size) * 100\n",
    "    print(f\"  Segment {seg_id}: {count} pixels ({percentage:.2f}%)\")"
   ]
  }
 ],
 "metadata": {
  "language_info": {
   "name": "python"
  }
 },
 "nbformat": 4,
 "nbformat_minor": 5
}
